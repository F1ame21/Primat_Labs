{
  "cells": [
    {
      "cell_type": "markdown",
      "metadata": {
        "id": "view-in-github",
        "colab_type": "text"
      },
      "source": [
        "<a href=\"https://colab.research.google.com/github/F1ame21/Primat_Labs/blob/main/lab3/LU.ipynb\" target=\"_parent\"><img src=\"https://colab.research.google.com/assets/colab-badge.svg\" alt=\"Open In Colab\"/></a>"
      ]
    },
    {
      "cell_type": "code",
      "execution_count": 1,
      "metadata": {
        "id": "bPFGiDFLzuA2"
      },
      "outputs": [],
      "source": [
        "import numpy as np\n",
        "import math\n",
        "import copy\n",
        "import time\n",
        "from numpy import linalg as LA\n",
        "import scipy.sparse\n",
        "from scipy.sparse import csr_matrix\n",
        "from scipy.sparse import rand"
      ]
    },
    {
      "cell_type": "code",
      "execution_count": 2,
      "metadata": {
        "id": "vxBtwbea2LRO"
      },
      "outputs": [],
      "source": [
        "data = np.array([9, 3, 1, 1, 11, 2, 1, 2, 1, 10, 2, 2, 1, \n",
        "                 2, 9, 1, 1, 1, 12, 1, 8, 2, 2, 3, 8])\n",
        "indices = np.array([0, 3, 4, 6, 1, 2, 3, 6, 1, 2, 3, 0, 1, 2, \n",
        "                    3, 4, 0, 3, 4, 6, 5, 0, 1, 4, 6])\n",
        "indptr = np.array([0, 4, 8, 11, 16, 20, 21, 25])\n",
        "#sr_matrix((data, indices , indptr), shape=(7, 7)).toarray()"
      ]
    },
    {
      "cell_type": "code",
      "execution_count": 3,
      "metadata": {
        "id": "_QLzkaTL2rPv"
      },
      "outputs": [],
      "source": [
        "def empty_matrix(n, m, format):\n",
        "    \"\"\"Пустой нулевой двумерный массив\n",
        "    :param n: количество строк\n",
        "    :param m: количество столбцов\n",
        "    :return: python array\n",
        "    \"\"\"\n",
        "    Matrix = scipy.sparse.__dict__[format + \"_matrix\"]\n",
        "    return Matrix((n, m))"
      ]
    },
    {
      "cell_type": "code",
      "execution_count": 4,
      "metadata": {
        "id": "dXhWR1gT7KLQ"
      },
      "outputs": [],
      "source": [
        "def generate_diagonal_domination_matrix(a, k):\n",
        "  \"\"\"\n",
        "  Генерирует тестовое уравнение для решения\n",
        "  :param a: квадратная матрица коэффициентов a_ij (см. лабу, а также отчет)\n",
        "  :param k: номер уравнения в последовательности\n",
        "  :return: пара (A_k, F_k) для уравнения A_k * x_k = F_k\n",
        "  None - если уравнение несовместно\n",
        "    \"\"\"\n",
        "  n = a.shape[0]\n",
        "  A_k = empty_matrix(n, n, \"lil\")\n",
        "  for i in range(n):\n",
        "    s1 = -sum(a[i, q] for q in range(0, i))\n",
        "    s2 = -sum(a[i, q] for q in range(i+1, n))\n",
        "    s = s1 + s2\n",
        "    for j in range(n):\n",
        "      if i == j:\n",
        "        A_k[i, j] = s + pow(10, -k)\n",
        "      else:\n",
        "        A_k[i, j] = a[i, j]\n",
        "  A_k = A_k.tocsr()\n",
        "  return A_k\n",
        "      "
      ]
    },
    {
      "cell_type": "code",
      "execution_count": 5,
      "metadata": {
        "id": "3SCnmOyhxTXs"
      },
      "outputs": [],
      "source": [
        "def generate_hilbert_matrix(k):\n",
        "    \"\"\"Генерирует тестовое уравнение для решения с матрицей Гильберта\n",
        "    :param k: номер уравнения в последовательности\n",
        "    :return: пара (A_k, F_k) для уравнения A_k * x_k = F_k\n",
        "    None - если уравнение несовместно\n",
        "    \"\"\"\n",
        "    A_k = empty_matrix(k, k, \"lil\")\n",
        "    for i in range(k):\n",
        "        for j in range(k):\n",
        "            A_k[i, j] = 1.0 / (i + j + 1.0)\n",
        "\n",
        "    return A_k.tocsr()\n"
      ]
    },
    {
      "cell_type": "code",
      "execution_count": 6,
      "metadata": {
        "id": "D_Tm9Saq27vY"
      },
      "outputs": [],
      "source": [
        "# из рязряженной - в матрицу\n",
        "def matrix_conversion(data, ind, indptr):\n",
        "  n = len(indptr)-1\n",
        "  A = np.zeros([n, n])\n",
        "  for i in range(0, n):\n",
        "    k = indptr[i+1] - indptr[i]\n",
        "    for j in range(0, k):\n",
        "      A[i, ind[0]] = data[0]\n",
        "      data = np.delete(data, 0)\n",
        "      ind = np.delete(ind, 0)\n",
        "  return A"
      ]
    },
    {
      "cell_type": "code",
      "execution_count": 7,
      "metadata": {
        "id": "DugdpRRT535G"
      },
      "outputs": [],
      "source": [
        "# LU - разложение, матрицы А\n",
        "def LU(a):\n",
        "  n = a.shape[0]\n",
        "  matrix_L = np.eye(n)\n",
        "  matrix_U = np.zeros([n, n])\n",
        "  for i in range(0, n):\n",
        "    for j in range(0, n):\n",
        "      if i <= j:\n",
        "        s = sum(matrix_U[k, j] * matrix_L[i, k] for k in range(0, i))\n",
        "        matrix_U[i, j] = a[i, j] - s\n",
        "      else:\n",
        "        s = sum(matrix_U[k, j] * matrix_L[i, k] for k in range(0, j))\n",
        "        matrix_L[i, j] = (a[i, j] - s) / matrix_U[j, j]\n",
        "  return matrix_L, matrix_U"
      ]
    },
    {
      "cell_type": "code",
      "execution_count": 8,
      "metadata": {
        "id": "u7p_cr-bdfya"
      },
      "outputs": [],
      "source": [
        "# Нахождение обратной матрицы L\n",
        "def matrix_L_inv(L):\n",
        "  n = L.shape[0]\n",
        "  L_inv = np.zeros([n, n])\n",
        "  for i in range(0, n):\n",
        "    for j in range(0, n):\n",
        "      if i == j:\n",
        "        L_inv[i, j] = 1 / L[i, j]\n",
        "      elif i > j:\n",
        "        s = sum(L_inv[k, j] * L[i, k] for k in range(0, i))\n",
        "        L_inv[i, j] = (-1 * s)/ L[i, i]\n",
        "  return L_inv\n",
        "# Нахождение обратной матрицы U\n",
        "def matrix_U_inv(U):\n",
        "  n = len(U)\n",
        "  U_inv = np.zeros([n, n])\n",
        "  for i in range(0, n):\n",
        "    for j in range(0, n):\n",
        "      if i == j:\n",
        "        U_inv[i, j] = 1 / U[i, j]\n",
        "      else:\n",
        "         s = sum(U_inv[i, k] * U[k, j] for k in range(0, j))\n",
        "         U_inv[i, j] = (-1 * s) / U[j, j]\n",
        "  return U_inv"
      ]
    },
    {
      "cell_type": "code",
      "execution_count": 9,
      "metadata": {
        "id": "hIe2OqNUBoqK"
      },
      "outputs": [],
      "source": [
        "# Решение Ly = b\n",
        "def solve_Ly(L, b):\n",
        "  n = L.shape[0]\n",
        "  y = np.zeros([n, 1])\n",
        "  for i in range(0, n):\n",
        "    s = sum(L[i, k] * y[k] for k in range(0, i))\n",
        "    y[i] = b[i] - s\n",
        "  return y\n",
        "\n",
        "# Решение Ux = y\n",
        "def solve_Lx(U, y):\n",
        "  n = len(U)\n",
        "  x = np.zeros([n, 1])\n",
        "  for i in reversed(range(0, n)):\n",
        "    s = sum(U[i, k] * x[k] for k in range(i, n))\n",
        "    x[i, 0] = (y[i, 0] - s) / U[i, i]\n",
        "  return x\n"
      ]
    },
    {
      "cell_type": "code",
      "execution_count": 10,
      "metadata": {
        "id": "aZNXMoKKZfDT"
      },
      "outputs": [],
      "source": [
        "# Проверка на корректность матрицы\n",
        "def isCorrectAway(A):\n",
        "  for i in range(len(A)):\n",
        "    if (A[i, i] == 0):\n",
        "      print('На главной диагонале присутсуют нули')\n",
        "      return False\n",
        "  return True\n",
        "# Функция проверки\n",
        "def isNeedToComplete(x_old, x_new, eps = 0.00001, sum1 = 0, sum2 = 0):\n",
        "  for i in range(0, len(x_old)):\n",
        "    sum1 += (x_new[i] - x_old[i]) ** 2\n",
        "    sum2 += x_new[i] ** 2\n",
        "  return math.sqrt( sum1 / sum2 ) < eps \n",
        "\n",
        "# Процедура решения\n",
        "# count - размерность; \n",
        "# Max_Iter - максимальное количетсво итераций; \n",
        "# numberOfIter- номер итерации;\n",
        "def solutin(a, b, Max_Iter = 200000, numberOfIter = 0):\n",
        "  count = a.shape[0]\n",
        "  x = np.zeros([count, 1])\n",
        "  start = time()\n",
        "  while numberOfIter < Max_Iter:\n",
        "    x_prev = copy.deepcopy(x)\n",
        "    for k in range(0, count):\n",
        "      s = 0\n",
        "      for j in range(0, count):\n",
        "        if (j != k):\n",
        "          s += a[k, j] * x[j]\n",
        "      x[k] = b[k, 0]/a[k, k] - s/a[k, k]\n",
        "    if isNeedToComplete(x_prev, x):\n",
        "      break\n",
        "    numberOfIter +=1\n",
        "  stop = time()\n",
        "  return x, numberOfIter, stop - start"
      ]
    },
    {
      "cell_type": "code",
      "execution_count": 11,
      "metadata": {
        "id": "4TnT9DElAVFZ"
      },
      "outputs": [],
      "source": [
        "def error(a, x, b):\n",
        "  b2 = np.matmul(a, x)\n",
        "  error = abs(b) - abs(b2)\n",
        "  return error"
      ]
    },
    {
      "cell_type": "code",
      "execution_count": 12,
      "metadata": {
        "id": "0QNmLJQZ5Uc5"
      },
      "outputs": [],
      "source": [
        "def generate_big_matrix(n, p, format):\n",
        "    \"\"\"Генерирует большую матрицу nxn разреженности p\n",
        "    :param n: размерность или порядок матрицы\n",
        "    :param p: отношение ненулевых клеток к nxn\n",
        "    :return: матрица A в разреженном виде\n",
        "    \"\"\"\n",
        "    return scipy.sparse.random(n, n, p, format=format)"
      ]
    },
    {
      "cell_type": "code",
      "execution_count": 13,
      "metadata": {
        "id": "2YefsNZmDPN9"
      },
      "outputs": [],
      "source": [
        "def LU_solve(A):\n",
        "  start = time()\n",
        "  matrix_L, matrix_U = LU(A)\n",
        "  y = solve_Ly(matrix_L, b)\n",
        "  x = solve_Lx(matrix_U, y)\n",
        "  stop = time()\n",
        "  return x, stop - start"
      ]
    },
    {
      "cell_type": "code",
      "execution_count": 14,
      "metadata": {
        "id": "yUAIB_7QFhEC"
      },
      "outputs": [],
      "source": [
        "from time import time"
      ]
    },
    {
      "cell_type": "code",
      "execution_count": 27,
      "metadata": {
        "colab": {
          "base_uri": "https://localhost:8080/"
        },
        "id": "kRmKZfnH5Gul",
        "outputId": "237f080d-6df3-4ed0-80dc-002a4e0822be"
      },
      "outputs": [
        {
          "output_type": "stream",
          "name": "stdout",
          "text": [
            "13.718498945236206\n",
            "33.53236937522888\n"
          ]
        }
      ],
      "source": [
        "if __name__ == '__main__':\n",
        "  #A = matrix_conversion(data, indices, indptr)\n",
        "  #A = np.random.randint(-10, 10, (10, 10))\n",
        "  A1 = generate_big_matrix(500, 0.0000001, 'lil')\n",
        "  #A = np.array([[500.000001, -3., -2.],\n",
        "  #              [-2., 400.000001, -2.],\n",
        "  #              [-1., -2., -300.000001]])\n",
        "  b = np.random.randint(-100, 100, (500, 1))\n",
        "  #b = np.array([[-3], [-4], [-2], [-1]]\n",
        "  A = generate_diagonal_domination_matrix(A1, 1)\n",
        "\n",
        "  #A = generate_hilbert_matrix(4).toarray()\n",
        "  n = A.shape[0]\n",
        "\n",
        "  #L_inv = matrix_L_inv(matrix_L)\n",
        "  #U_inv = matrix_U_inv(matrix_U)\n",
        "  #matrix_A_inv = np.dot(U_inv, L_inv)\n",
        "  #x = LU_solve(A)[0]]\n",
        "  print(solutin(A, b)[2])\n",
        "  print(LU_solve(A)[1])\n",
        "  #print(LU_solve(A)[1])\n",
        "  #jacobi = solutin(A, b)\n",
        "  #print(solutin(A, b)[2])\n",
        "  #print(\n",
        "  #    f'Матрица A:\\n{A}\\n\\nМатрица b:\\n{2}\\n\\n Решение Ax=b \\n с использование LU-разложения\\n{x}\\n\\nПотребовалось: {toc1-tic1} времени\\n\\nПогрешность:\\n{1}\\n\\nМатрица L:\\n{matrix_L}\\n\\nМатрица U:\\n{matrix_U}\\n\\n',\n",
        "      #f'Обратная матрица:\\n{matrix_A_inv}\\n\\n',\n",
        "  #    f'Решение методом Якоби\\n{jacobi[0]}\\n\\n'\n",
        "  #    f'Потребовалось: {jacobi[2]} времени\\n\\n'\n",
        "  #    f'Потребовалось: {jacobi[1]} шагов\\n\\n'\n",
        "  #    f'Погрешность:\\n{1}'\n",
        "  #   )"
      ]
    }
  ],
  "metadata": {
    "colab": {
      "collapsed_sections": [],
      "name": "LU.ipynb",
      "provenance": [],
      "authorship_tag": "ABX9TyMB0qjfhkk9uC1JxkPWUOdR",
      "include_colab_link": true
    },
    "kernelspec": {
      "display_name": "Python 3",
      "name": "python3"
    },
    "language_info": {
      "name": "python"
    }
  },
  "nbformat": 4,
  "nbformat_minor": 0
}