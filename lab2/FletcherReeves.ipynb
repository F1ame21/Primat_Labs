{
  "nbformat": 4,
  "nbformat_minor": 0,
  "metadata": {
    "colab": {
      "name": "FletcherReeves.ipynb",
      "provenance": [],
      "authorship_tag": "ABX9TyNB2RHy29Q/uu8l6ZVSafSy",
      "include_colab_link": true
    },
    "kernelspec": {
      "name": "python3",
      "display_name": "Python 3"
    },
    "language_info": {
      "name": "python"
    }
  },
  "cells": [
    {
      "cell_type": "markdown",
      "metadata": {
        "id": "view-in-github",
        "colab_type": "text"
      },
      "source": [
        "<a href=\"https://colab.research.google.com/github/F1ame21/Primat_Labs/blob/main/lab2/FletcherReeves.ipynb\" target=\"_parent\"><img src=\"https://colab.research.google.com/assets/colab-badge.svg\" alt=\"Open In Colab\"/></a>"
      ]
    },
    {
      "cell_type": "code",
      "source": [
        "import numpy as np\n",
        "from scipy.misc import derivative\n",
        "from sympy import *\n",
        "from mpl_toolkits.mplot3d import Axes3D\n",
        "from numpy import arange\n",
        "from numpy import meshgrid\n",
        "from matplotlib import pylab, gridspec, pyplot as plt\n",
        "from random import *\n",
        "import math\n",
        "import sympy"
      ],
      "metadata": {
        "id": "gLdapiP7xs4_"
      },
      "execution_count": null,
      "outputs": []
    },
    {
      "cell_type": "markdown",
      "source": [
        ""
      ],
      "metadata": {
        "id": "3D61PZY2zKis"
      }
    },
    {
      "cell_type": "code",
      "source": [
        "def golden_ratio(func , a = 0, b = 1, e = 0.00001):\n",
        "  golden_ratio_value_1 = (3 - np.sqrt(5)) / 2\n",
        "  golden_ratio_value_2 = 1 - golden_ratio_value_1\n",
        "\n",
        "  x_1 = a + golden_ratio_value_1 * (b - a)\n",
        "  x_2 = a + golden_ratio_value_2 * (b - a)\n",
        "\n",
        "  x_1_value = func(x_1)\n",
        "  x_2_value = func(x_2)\n",
        "  while (b - a)  > e:\n",
        "    if x_1_value < x_2_value:\n",
        "      b = x_2\n",
        "      x_2 = x_1\n",
        "      x_2_value = x_1_value\n",
        "      x_1 = a + golden_ratio_value_1 * (b - a)\n",
        "      x_1_value = func(x_1)\n",
        "    elif x_1_value > x_2_value:\n",
        "      a = x_1\n",
        "      x_1 = x_2\n",
        "      x_1_value = x_2_value\n",
        "      x_2 = a + golden_ratio_value_2 * (b - a)\n",
        "      x_2_value = func(x_2)\n",
        "  return (a+b)/2"
      ],
      "metadata": {
        "id": "vNWwzD8Z95sb"
      },
      "execution_count": null,
      "outputs": []
    },
    {
      "cell_type": "code",
      "source": [
        "def plot():\n",
        "  a = -5\n",
        "  b = 5\n",
        "  # с видом сверху\n",
        "  fig, ax = plt.subplots()\n",
        "  p = ax.get_position()\n",
        "  xaxis = arange(a, b, 0.1)\n",
        "  yaxis = arange(a, b, 0.1)\n",
        "  # создаем сетку\n",
        "  x, y = meshgrid(xaxis, yaxis)\n",
        "  results = f(x, y)\n",
        "  plt.contour(xaxis, yaxis, results)\n",
        "  line, = plt.plot([], color='black')\n",
        "  ax.scatter(steps[:, 0], steps[:, 1], steps[:, 2],linestyle=\"-\", marker=\".\", linewidth=1,c='red')\n",
        "  plt.plot(steps[:, 0],steps[:, 1], color = 'red')"
      ],
      "metadata": {
        "id": "7H8c5bd_yP5p"
      },
      "execution_count": 152,
      "outputs": []
    },
    {
      "cell_type": "code",
      "source": [
        "def f(x, y):\n",
        "  return  7*x**2 + 2*y**2 + 2*x*y + 9*x + 3*y\n",
        "# вычисление производной\n",
        "def derivative(xn, yn):\n",
        "  x = symbols('x')\n",
        "  y = symbols('y')\n",
        "  derivative_x = diff(f(x, y), x)\n",
        "  derivative_y = diff(f(x, y), y)\n",
        "  derivative_fx = derivative_x.evalf(subs={x:xn,y:yn})\n",
        "  derivative_fy = derivative_y.evalf(subs={y:yn,x:xn})\n",
        "  return derivative_fx, derivative_fy\n",
        "steps = []\n",
        "def FletcherReeves(xn, yn, accuracy = 0.00001, n = 4):\n",
        "  steps.append([xn, yn, f(xn, yn)])\n",
        "  xn_pred = 1; yn_pred = 0\n",
        "  for i in range(n):\n",
        "    derivative_fxn_pred, derivative_fyn_pred = derivative(xn_pred, yn_pred)\n",
        "    derivative_fxn, derivative_fyn = derivative(xn, yn)\n",
        "    if (abs(derivative_fxn) < accuracy) and (abs(derivative_fyn) < accuracy):\n",
        "      break\n",
        "    if i == 0:\n",
        "      alpha = golden_ratio(lambda a: f(xn - a * derivative_fxn, yn - a * derivative_fyn))\n",
        "      xn_pred = xn\n",
        "      yn_pred = yn\n",
        "      xn = xn - alpha * derivative_fxn\n",
        "      yn = yn - alpha * derivative_fyn\n",
        "      steps.append([xn, yn, f(xn, yn)])\n",
        "    else:\n",
        "      b = (sqrt(derivative_fxn ** 2 + derivative_fyn ** 2) ** 2) / (sqrt(derivative_fxn_pred ** 2 + derivative_fyn_pred ** 2) ** 2)\n",
        "      d1 = derivative_fxn + b * derivative_fxn_pred\n",
        "      d2 = derivative_fyn + b * derivative_fyn_pred\n",
        "      xn_pred = xn\n",
        "      yn_pred = yn\n",
        "      alpha = golden_ratio(lambda a: f(xn_pred - a * d1, yn_pred - a * d2))\n",
        "      xn = xn_pred - alpha * d1\n",
        "      yn = yn_pred - alpha * d2\n",
        "      xn = round(xn, 4)\n",
        "      yn = round(yn, 4)\n",
        "      xn_pred = round(xn, 4)\n",
        "      yn_pred = round(yn, 4)\n",
        "      steps.append([xn, yn, f(xn, yn)])\n",
        "    if abs(xn_pred - xn) < accuracy and abs(yn_pred - yn) < accuracy:\n",
        "      print(f\"Number of iterations - {i}\")\n",
        "      break\n",
        "  return print(xn, yn), steps\n",
        "FletcherReeves(xn = 3, yn = 3)\n",
        "steps = np.array(steps)\n",
        "steps = steps.astype(float)"
      ],
      "metadata": {
        "colab": {
          "base_uri": "https://localhost:8080/"
        },
        "id": "nmxBq8Y3yqds",
        "outputId": "eea39898-e5a1-45e0-d376-390c0dc8e1a7"
      },
      "execution_count": 172,
      "outputs": [
        {
          "output_type": "stream",
          "name": "stdout",
          "text": [
            "Number of iterations - 1\n",
            "-0.5771 -0.4616\n"
          ]
        }
      ]
    },
    {
      "cell_type": "code",
      "source": [
        ""
      ],
      "metadata": {
        "id": "-q2CnLWK2n5w"
      },
      "execution_count": null,
      "outputs": []
    },
    {
      "cell_type": "code",
      "source": [
        "plot()"
      ],
      "metadata": {
        "colab": {
          "base_uri": "https://localhost:8080/",
          "height": 334
        },
        "id": "yo9srjg00En5",
        "outputId": "dc1296a2-a8a7-4fa2-f809-181a3b5c6f75"
      },
      "execution_count": 169,
      "outputs": [
        {
          "output_type": "stream",
          "name": "stderr",
          "text": [
            "/usr/local/lib/python3.7/dist-packages/matplotlib/collections.py:885: RuntimeWarning: invalid value encountered in sqrt\n",
            "  scale = np.sqrt(self._sizes) * dpi / 72.0 * self._factor\n",
            "/usr/local/lib/python3.7/dist-packages/matplotlib/collections.py:885: RuntimeWarning: invalid value encountered in sqrt\n",
            "  scale = np.sqrt(self._sizes) * dpi / 72.0 * self._factor\n"
          ]
        },
        {
          "output_type": "display_data",
          "data": {
            "text/plain": [
              "<Figure size 432x288 with 1 Axes>"
            ],
            "image/png": "[encoded data removed]"
          },
          "metadata": {
            "needs_background": "light"
          }
        }
      ]
    }
  ]
}