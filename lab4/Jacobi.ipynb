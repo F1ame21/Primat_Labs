{
  "nbformat": 4,
  "nbformat_minor": 0,
  "metadata": {
    "colab": {
      "name": "Jacobi.ipynb",
      "provenance": [],
      "collapsed_sections": [],
      "authorship_tag": "ABX9TyM2Actz7ANO+LKo00duid+V",
      "include_colab_link": true
    },
    "kernelspec": {
      "name": "python3",
      "display_name": "Python 3"
    },
    "language_info": {
      "name": "python"
    }
  },
  "cells": [
    {
      "cell_type": "markdown",
      "metadata": {
        "id": "view-in-github",
        "colab_type": "text"
      },
      "source": [
        "<a href=\"https://colab.research.google.com/github/F1ame21/Primat_Labs/blob/main/lab4/Jacobi.ipynb\" target=\"_parent\"><img src=\"https://colab.research.google.com/assets/colab-badge.svg\" alt=\"Open In Colab\"/></a>"
      ]
    },
    {
      "cell_type": "code",
      "execution_count": 2,
      "metadata": {
        "id": "VnFU9lBG3duj"
      },
      "outputs": [],
      "source": [
        "import numpy as np\n",
        "from numpy import random\n",
        "import math\n",
        "import scipy.sparse\n",
        "from scipy.sparse import csr_matrix\n",
        "from scipy import stats\n",
        "from scipy.sparse import random"
      ]
    },
    {
      "cell_type": "code",
      "source": [
        "def empty_matrix(n, m, format):\n",
        "    \"\"\"Пустой нулевой двумерный массив\n",
        "    :param n: количество строк\n",
        "    :param m: количество столбцов\n",
        "    :return: python array\n",
        "    \"\"\"\n",
        "    Matrix = scipy.sparse.__dict__[format + \"_matrix\"]\n",
        "    return Matrix((n, m))"
      ],
      "metadata": {
        "id": "8OsOjAe89rC8"
      },
      "execution_count": 3,
      "outputs": []
    },
    {
      "cell_type": "code",
      "source": [
        "def generate_big_matrix(n, p, format):\n",
        "    \"\"\"Генерирует большую матрицу nxn разреженности p\n",
        "    :param n: размерность или порядок матрицы\n",
        "    :param p: отношение ненулевых клеток к nxn\n",
        "    :return: матрица A в разреженном виде\n",
        "    \"\"\"\n",
        "    rvs = lambda s: np.random.uniform(-4, 0, size=s)\n",
        "    return random(n,n , density=p, format = format, dtype = int, data_rvs = rvs)"
      ],
      "metadata": {
        "id": "SYx7ng7f6fZ5"
      },
      "execution_count": 4,
      "outputs": []
    },
    {
      "cell_type": "code",
      "source": [
        "def generate_symmetrix_matrix(n, p, format):\n",
        "  A = generate_big_matrix(n, p, format)\n",
        "  A = A + A.T - scipy.sparse.diags(A.diagonal())\n",
        "  return A"
      ],
      "metadata": {
        "id": "H9D04e_w_8o9"
      },
      "execution_count": 5,
      "outputs": []
    },
    {
      "cell_type": "code",
      "source": [
        "def generate_diagonal_domination_matrix(a, k):\n",
        "  \"\"\"\n",
        "  Генерирует тестовое уравнение для решения\n",
        "  :param a: квадратная матрица коэффициентов a_ij (см. лабу, а также отчет)\n",
        "  :param k: номер уравнения в последовательности\n",
        "  :return: пара (A_k, F_k) для уравнения A_k * x_k = F_k\n",
        "  None - если уравнение несовместно\n",
        "    \"\"\"\n",
        "  n = a.shape[0]\n",
        "  A_k = empty_matrix(n, n, \"lil\")\n",
        "  for i in range(n):\n",
        "    s1 = -sum(a[i, q] for q in range(0, i))\n",
        "    s2 = -sum(a[i, q] for q in range(i+1, n))\n",
        "    s = s1 + s2\n",
        "    for j in range(n):\n",
        "      if i == j:\n",
        "        A_k[i, j] = -s - pow(10, k)\n",
        "      else:\n",
        "        A_k[i, j] = a[i, j]\n",
        "  A_k = A_k.tocsr()\n",
        "  return A_k"
      ],
      "metadata": {
        "id": "Igw7b7qv9oTy"
      },
      "execution_count": 134,
      "outputs": []
    },
    {
      "cell_type": "code",
      "source": [
        "def generate_hilbert_matrix(k):\n",
        "    \"\"\"Генерирует тестовое уравнение для решения с матрицей Гильберта\n",
        "    :param k: номер уравнения в последовательности\n",
        "    :return: пара (A_k, F_k) для уравнения A_k * x_k = F_k\n",
        "    None - если уравнение несовместно\n",
        "    \"\"\"\n",
        "    A_k = empty_matrix(k, k, \"lil\")\n",
        "    for i in range(k):\n",
        "        for j in range(k):\n",
        "            A_k[i, j] = 1.0 / (i + j + 1.0)\n",
        "\n",
        "    return A_k.tocsr()"
      ],
      "metadata": {
        "id": "gQNyPwko6Zlx"
      },
      "execution_count": 7,
      "outputs": []
    },
    {
      "cell_type": "code",
      "source": [
        "def max_element(a):\n",
        "  n = a.shape[0]\n",
        "  l = 0; r = 1\n",
        "  max = a[0, 1]\n",
        "  for i in range(0, n):\n",
        "    for j in range(i+1, n):\n",
        "        if abs(a[i, j]) > abs(max):\n",
        "          max = a[i, j]\n",
        "          l = i; r = j\n",
        "  return max, l, r"
      ],
      "metadata": {
        "id": "MYEpbKp87HCt"
      },
      "execution_count": 8,
      "outputs": []
    },
    {
      "cell_type": "code",
      "source": [
        "def search_alpha(a, i, j):\n",
        "  arctg = math.atan((2. * a[i, j])/(a[i, i] - a[j, j]))\n",
        "  return 1./2 * arctg "
      ],
      "metadata": {
        "id": "6KvmJUmUib30"
      },
      "execution_count": 9,
      "outputs": []
    },
    {
      "cell_type": "code",
      "source": [
        "def isCorrectAway(max):\n",
        "  if abs(max) < 1e-7:\n",
        "    return True\n",
        "  return False"
      ],
      "metadata": {
        "id": "JVUi-GyvkBkx"
      },
      "execution_count": 111,
      "outputs": []
    },
    {
      "cell_type": "code",
      "source": [
        "def main(A, n):\n",
        "  R_all = 0\n",
        "  k = 0\n",
        "  while True:\n",
        "    max, i, j = max_element(A)\n",
        "    if isCorrectAway(max):\n",
        "      return A, R_all, k\n",
        "    alpha = search_alpha(A, i, j)\n",
        "    R = np.eye(n)\n",
        "    R[i, i] = np.cos(alpha)\n",
        "    R[j, j] = np.cos(alpha)\n",
        "    R[i, j] = -np.sin(alpha)\n",
        "    R[j, i] = np.sin(alpha)\n",
        "    if k != 0:\n",
        "      R_all = np.dot(R_all, R)\n",
        "    else: \n",
        "      R_all = R\n",
        "    R_inv = np.transpose(R)\n",
        "    B = np.dot(R_inv, A)\n",
        "    A = np.dot(B, R)\n",
        "    k += 1"
      ],
      "metadata": {
        "id": "eY4zbPiWfufs"
      },
      "execution_count": 107,
      "outputs": []
    },
    {
      "cell_type": "code",
      "source": [
        "def error(a, s, v):\n",
        "  F = np.dot(V, S)\n",
        "  B = np.dot(F, np.linalg.matrix_power(V, -1))\n",
        "  error = abs(a) - abs(B)\n",
        "  return print(\n",
        "      f'\\n\\nМатрицы ошибок:\\n{np.round(error, 16)}'  \n",
        "  ) "
      ],
      "metadata": {
        "id": "kFLXX1h7khus"
      },
      "execution_count": 146,
      "outputs": []
    },
    {
      "cell_type": "code",
      "source": [
        "if __name__ == '__main__':\n",
        "  # A = np.array([[5, 1, 2], [1, 4, 1], [2, 1, 3]])\n",
        "  #A1 = generate_symmetrix_matrix(5, 1, 'lil')\n",
        "  # A = generate_diagonal_domination_matrix(A1, 8).toarray()\n",
        "  A = generate_hilbert_matrix(6).toarray()\n",
        "  n = A.shape[0]\n",
        "  print(f'Матрица A:\\n{A}\\n')\n",
        "  S, V, k = main(A, n)\n",
        "  print(\n",
        "          f'Собственные значения:A:\\n{np.diag(np.round(S, 2))}\\n\\n'\n",
        "          f'Собственные вектора:\\n{np.round(V, 3)}\\n\\n'\n",
        "          f'Ходов:\\n{k}'\n",
        "          )\n",
        "  error(A, S, V)\n"
      ],
      "metadata": {
        "id": "NOCtWvww8dfw",
        "colab": {
          "base_uri": "https://localhost:8080/"
        },
        "outputId": "392877cb-aada-44c4-a09b-3aaca74f3648"
      },
      "execution_count": 149,
      "outputs": [
        {
          "output_type": "stream",
          "name": "stdout",
          "text": [
            "Матрица A:\n",
            "[[1.         0.5        0.33333333 0.25       0.2        0.16666667]\n",
            " [0.5        0.33333333 0.25       0.2        0.16666667 0.14285714]\n",
            " [0.33333333 0.25       0.2        0.16666667 0.14285714 0.125     ]\n",
            " [0.25       0.2        0.16666667 0.14285714 0.125      0.11111111]\n",
            " [0.2        0.16666667 0.14285714 0.125      0.11111111 0.1       ]\n",
            " [0.16666667 0.14285714 0.125      0.11111111 0.1        0.09090909]]\n",
            "\n",
            "Собственные значения:A:\n",
            "[1.62 0.24 0.   0.   0.   0.02]\n",
            "\n",
            "Собственные вектора:\n",
            "[[ 0.749 -0.615  0.062 -0.011  0.001  0.24 ]\n",
            " [ 0.441  0.211 -0.491  0.18  -0.036 -0.698]\n",
            " [ 0.321  0.366  0.535 -0.604  0.241 -0.231]\n",
            " [ 0.254  0.395  0.417  0.444 -0.625  0.133]\n",
            " [ 0.212  0.388 -0.047  0.441  0.69   0.363]\n",
            " [ 0.181  0.371 -0.541 -0.459 -0.272  0.503]]\n",
            "\n",
            "Ходов:\n",
            "41\n",
            "\n",
            "\n",
            "Матрицы ошибок:\n",
            "[[ 1.e-16  1.e-16 -2.e-16  1.e-16  1.e-16  1.e-16]\n",
            " [-1.e-16  1.e-16 -1.e-16  1.e-16  1.e-16  1.e-16]\n",
            " [ 1.e-16  1.e-16  0.e+00  1.e-16  0.e+00  1.e-16]\n",
            " [-1.e-16  1.e-16  0.e+00  1.e-16  0.e+00  1.e-16]\n",
            " [ 1.e-16  1.e-16  0.e+00  1.e-16  1.e-16  1.e-16]\n",
            " [ 0.e+00  1.e-16  0.e+00  1.e-16  0.e+00  1.e-16]]\n"
          ]
        }
      ]
    }
  ]
}